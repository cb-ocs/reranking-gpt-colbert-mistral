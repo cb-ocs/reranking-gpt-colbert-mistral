{
 "cells": [
  {
   "cell_type": "code",
   "execution_count": 1,
   "metadata": {},
   "outputs": [
    {
     "data": {
      "text/plain": [
       "True"
      ]
     },
     "execution_count": 1,
     "metadata": {},
     "output_type": "execute_result"
    }
   ],
   "source": [
    "import os\n",
    "from dotenv import load_dotenv\n",
    "\n",
    "load_dotenv()"
   ]
  },
  {
   "cell_type": "code",
   "execution_count": 2,
   "metadata": {},
   "outputs": [],
   "source": [
    "from langchain_community.document_loaders import PyPDFLoader\n",
    "from langchain.text_splitter import RecursiveCharacterTextSplitter\n",
    "\n",
    "loader = PyPDFLoader(\"data/bilstein-chunks.pdf\")\n",
    "\n",
    "documents = loader.load()\n",
    "\n",
    "text_splitter = RecursiveCharacterTextSplitter(chunk_size = 512, chunk_overlap = 20)\n",
    "docs = text_splitter.split_documents(documents)"
   ]
  },
  {
   "cell_type": "code",
   "execution_count": 3,
   "metadata": {},
   "outputs": [
    {
     "name": "stderr",
     "output_type": "stream",
     "text": [
      "c:\\Users\\christian.braun\\OneDrive - Osborne Clarke\\CB\\30_Code\\reranking-gpt-mistral-cohere\\reranking-test\\lib\\site-packages\\langchain_core\\_api\\deprecation.py:117: LangChainDeprecationWarning: The class `langchain_community.embeddings.openai.OpenAIEmbeddings` was deprecated in langchain-community 0.1.0 and will be removed in 0.2.0. An updated version of the class exists in the langchain-openai package and should be used instead. To use it run `pip install -U langchain-openai` and import as `from langchain_openai import OpenAIEmbeddings`.\n",
      "  warn_deprecated(\n"
     ]
    }
   ],
   "source": [
    "from langchain_community.vectorstores import Chroma\n",
    "from langchain.embeddings.openai import OpenAIEmbeddings\n",
    "\n",
    "embedding_function = OpenAIEmbeddings(model=\"text-embedding-ada-002\")\n",
    "db = Chroma.from_documents(docs, embedding_function)"
   ]
  },
  {
   "cell_type": "code",
   "execution_count": 4,
   "metadata": {},
   "outputs": [],
   "source": [
    "query = \"Ich habe in einer Mail einen Kunden geschrieben, dass wir ihn vernichten würden, wenn er nicht einem Vertrag zustimmt und dass er ohne uns ein Niemand sei. Wie sollte ich damit umgehen?\"\n",
    "docs = db.similarity_search(query)"
   ]
  },
  {
   "cell_type": "code",
   "execution_count": 5,
   "metadata": {},
   "outputs": [
    {
     "data": {
      "text/plain": [
       "[Document(page_content='dadurch selber keinen Vorteil (z.B. Gegeninformation) erlange? \\\\n Der Austausch ist auch auf \\ninformeller, ge -sellschaftlicher und rein privater Ebene kar -tellrechtlich verboten. Es kommt nicht auf \\ndie Form, sondern den Inhalt an. \\\\n Insbesondere der Austausch von Preisen, Preissteigerungen, \\nRabatten, Kunden, Kos -ten, Zuschlägen, Umsätzen, Zahlungsbe -dingungen, Kapazitäten, Mengen und \\nStra-tegien ist problematisch und in jedem Fall zu vermeiden.\",', metadata={'page': 10, 'source': 'data/bilstein-chunks.pdf'}),\n",
       " Document(page_content='Ge-schäftsbedingungen ab („keine Preisab -sprache“). \\\\n Teilen Sie mit Ihren Wettbewerbern keine \\nAbsatzmärkte, Kunden oder Kundengrup -pen auf („keine Aufteilung von Märkten oder Kunden“). \\nBoykottieren Sie auch nicht gemeinsam einzelne Kunden.\",  \\n \"ueberschrift\": \"Hardcore -Absprachen im Kontakt mit Wettbewerbern - DONT’S\"  \\n  \\n \"abschnitt\": \"Hardcore -Absprachen im Kontakt mit Wettbewerbern - DOs: \\\\n Treffen Sie selbstständig', metadata={'page': 10, 'source': 'data/bilstein-chunks.pdf'}),\n",
       " Document(page_content='eine Entschei -dung darüber, welche Preise, Preisbestand -teile und sonstige Geschäftsbedingungen \\nSie für Ihre Produkte verlangen. Reaktionen auf Preisverstöße eines Wettbewerbers (eigene \\nPreisanpassung nach unten oder oben aufgrund selbstständiger Beobach -tung des \\nWettbewerbsumfelds) sind hinge -gen zulässig. \\\\n Entscheiden Sie selbstständig, welche Kunden oder \\nGebiete Sie beliefern und nehmen Sie hierbei nur auf Ihre Interessen Rücksicht.\",', metadata={'page': 10, 'source': 'data/bilstein-chunks.pdf'}),\n",
       " Document(page_content='auch Endabnehmer direkt beliefert. \\\\n Checkliste: Vorsichtsmaßnahmen im Rahmen von \\nLieferbeziehungen mit Wettbewerbern \\\\n \\n Beschränken Sie bei der Kommunikation mit dem \\nWettbewerber die übermittelten Informa -tionen, Treffen und Besprechungen stets auf das für die \\nLieferbeziehung absolut erforder -liche Maß; dies gilt auch dann, wenn dies eine Abweichung von den \\nüblichen Prozessen erfordert (z.B.: keine standardmäßige Erfassung der Kapazitäten und \\nLagerbestände bei Wettbewerbern). \\\\n', metadata={'page': 5, 'source': 'data/bilstein-chunks.pdf'})]"
      ]
     },
     "execution_count": 5,
     "metadata": {},
     "output_type": "execute_result"
    }
   ],
   "source": [
    "docs"
   ]
  },
  {
   "cell_type": "markdown",
   "metadata": {},
   "source": [
    "# Reranking mit OpenAI GPT-4"
   ]
  },
  {
   "cell_type": "code",
   "execution_count": 6,
   "metadata": {},
   "outputs": [
    {
     "name": "stdout",
     "output_type": "stream",
     "text": [
      "Dauerte 30.584593534469604 Sekunden für das Reranking der Docs mit GPT-4.\n"
     ]
    }
   ],
   "source": [
    "from openai import OpenAI\n",
    "import time\n",
    "import json\n",
    "\n",
    "start = time.time()\n",
    "client = OpenAI()\n",
    "response = client.chat.completions.create(\n",
    "    model=\"gpt-4-1106-preview\",\n",
    "    response_format={\"type\": \"json_object\"},\n",
    "    temperature = 0,\n",
    "    messages = [\n",
    "        {\"role\": \"system\", \"content\": \"You are an expert relevance ranker. Given a list of documents and a query, your job is to determine how relevant each document is for answering the query. Your output is JSON, which is a list of documents. Each document has two field, content and score. relevance_score is from 0.0 to 100.0. Higher relevance means higher score.\"},\n",
    "        {\"role\": \"user\", \"content\": f\"Query: {query} Docs: {docs}\"}\n",
    "    ] \n",
    ")\n",
    "\n",
    "print(f\"Dauerte {time.time() - start} Sekunden für das Reranking der Docs mit GPT-4.\")"
   ]
  },
  {
   "cell_type": "code",
   "execution_count": 7,
   "metadata": {},
   "outputs": [
    {
     "name": "stdout",
     "output_type": "stream",
     "text": [
      "[\n",
      "  {\n",
      "    \"content\": \"Ge-sch\\u00e4ftsbedingungen ab (\\u201ekeine Preisab -sprache\\u201c). \\\\n Teilen Sie mit Ihren Wettbewerbern keine \\nAbsatzm\\u00e4rkte, Kunden oder Kundengrup -pen auf (\\u201ekeine Aufteilung von M\\u00e4rkten oder Kunden\\u201c). \\nBoykottieren Sie auch nicht gemeinsam einzelne Kunden.\",\n",
      "    \"score\": 20.0\n",
      "  },\n",
      "  {\n",
      "    \"content\": \"dadurch selber keinen Vorteil (z.B. Gegeninformation) erlange? \\\\n Der Austausch ist auch auf \\ninformeller, ge -sellschaftlicher und rein privater Ebene kar -tellrechtlich verboten. Es kommt nicht auf \\ndie Form, sondern den Inhalt an. \\\\n Insbesondere der Austausch von Preisen, Preissteigerungen, \\nRabatten, Kunden, Kos -ten, Zuschl\\u00e4gen, Ums\\u00e4tzen, Zahlungsbe -dingungen, Kapazit\\u00e4ten, Mengen und \\nStra-tegien ist problematisch und in jedem Fall zu vermeiden.\",\n",
      "    \"score\": 10.0\n",
      "  },\n",
      "  {\n",
      "    \"content\": \"eine Entschei -dung dar\\u00fcber, welche Preise, Preisbestand -teile und sonstige Gesch\\u00e4ftsbedingungen \\nSie f\\u00fcr Ihre Produkte verlangen. Reaktionen auf Preisverst\\u00f6\\u00dfe eines Wettbewerbers (eigene \\nPreisanpassung nach unten oder oben aufgrund selbstst\\u00e4ndiger Beobach -tung des \\nWettbewerbsumfelds) sind hinge -gen zul\\u00e4ssig. \\\\n Entscheiden Sie selbstst\\u00e4ndig, welche Kunden oder \\nGebiete Sie beliefern und nehmen Sie hierbei nur auf Ihre Interessen R\\u00fccksicht.\",\n",
      "    \"score\": 10.0\n",
      "  },\n",
      "  {\n",
      "    \"content\": \"auch Endabnehmer direkt beliefert. \\\\n Checkliste: Vorsichtsma\\u00dfnahmen im Rahmen von \\nLieferbeziehungen mit Wettbewerbern \\\\n \\n Beschr\\u00e4nken Sie bei der Kommunikation mit dem \\nWettbewerber die \\u00fcbermittelten Informa -tionen, Treffen und Besprechungen stets auf das f\\u00fcr die \\nLieferbeziehung absolut erforder -liche Ma\\u00df; dies gilt auch dann, wenn dies eine Abweichung von den \\n\\u00fcblichen Prozessen erfordert (z.B.: keine standardm\\u00e4\\u00dfige Erfassung der Kapazit\\u00e4ten und \\nLagerbest\\u00e4nde bei Wettbewerbern). \\\\n\",\n",
      "    \"score\": 10.0\n",
      "  }\n",
      "]\n"
     ]
    }
   ],
   "source": [
    "scores = json.loads(response.choices[0].message.content)[\"documents\"]\n",
    "sorted_data = sorted(scores, key=lambda x: x['score'], reverse=True)\n",
    "print(json.dumps(sorted_data, indent=2))"
   ]
  },
  {
   "cell_type": "markdown",
   "metadata": {},
   "source": [
    "# Reranking mit OpenSource ColBERT"
   ]
  },
  {
   "cell_type": "code",
   "execution_count": 8,
   "metadata": {},
   "outputs": [
    {
     "name": "stderr",
     "output_type": "stream",
     "text": [
      "c:\\Users\\christian.braun\\OneDrive - Osborne Clarke\\CB\\30_Code\\reranking-gpt-mistral-cohere\\reranking-test\\lib\\site-packages\\tqdm\\auto.py:21: TqdmWarning: IProgress not found. Please update jupyter and ipywidgets. See https://ipywidgets.readthedocs.io/en/stable/user_install.html\n",
      "  from .autonotebook import tqdm as notebook_tqdm\n"
     ]
    }
   ],
   "source": [
    "from transformers import AutoTokenizer, AutoModel\n",
    "\n",
    "tokenizer = AutoTokenizer.from_pretrained(\"colbert-ir/colbertv2.0\")\n",
    "model = AutoModel.from_pretrained(\"colbert-ir/colbertv2.0\")"
   ]
  },
  {
   "cell_type": "code",
   "execution_count": 9,
   "metadata": {},
   "outputs": [
    {
     "name": "stdout",
     "output_type": "stream",
     "text": [
      "Dauerte 2.361990451812744 Sekunden für das Reranking der Docs mit ColBERT.\n"
     ]
    }
   ],
   "source": [
    "import torch\n",
    "\n",
    "start = time.time()\n",
    "scores = []\n",
    "\n",
    "def maxsim(query_embedding, document_embedding):\n",
    "    expanded_query = query_embedding.unsqueeze(2)\n",
    "    expanded_doc = document_embedding.unsqueeze(1)\n",
    "\n",
    "    sim_matrix = torch.nn.functional.cosine_similarity(expanded_query, expanded_doc, dim=1)\n",
    "\n",
    "    max_sim_scores, _ = torch.max(sim_matrix, dim=2)\n",
    "    avg_max_sim = torch.mean(max_sim_scores, dim=1)\n",
    "    return avg_max_sim\n",
    "\n",
    "query_encoding = tokenizer(query, return_tensors='pt')\n",
    "query_embedding = model(**query_encoding).last_hidden_state.mean(dim=1)\n",
    "\n",
    "for document in docs:\n",
    "    document_encoding = tokenizer(document.page_content, return_tensors='pt', truncation=True, max_length=512)\n",
    "    document_embedding = model(**document_encoding).last_hidden_state\n",
    "\n",
    "    score = maxsim(query_embedding.unsqueeze(0), document_embedding)\n",
    "    scores.append({\n",
    "        \"score\": score.item(),\n",
    "        \"document\": document.page_content,\n",
    "    })\n",
    "\n",
    "print(f\"Dauerte {time.time() - start} Sekunden für das Reranking der Docs mit ColBERT.\")"
   ]
  },
  {
   "cell_type": "code",
   "execution_count": 10,
   "metadata": {},
   "outputs": [
    {
     "name": "stdout",
     "output_type": "stream",
     "text": [
      "[\n",
      "  {\n",
      "    \"score\": 1.0,\n",
      "    \"document\": \"dadurch selber keinen Vorteil (z.B. Gegeninformation) erlange? \\\\n Der Austausch ist auch auf \\ninformeller, ge -sellschaftlicher und rein privater Ebene kar -tellrechtlich verboten. Es kommt nicht auf \\ndie Form, sondern den Inhalt an. \\\\n Insbesondere der Austausch von Preisen, Preissteigerungen, \\nRabatten, Kunden, Kos -ten, Zuschl\\u00e4gen, Ums\\u00e4tzen, Zahlungsbe -dingungen, Kapazit\\u00e4ten, Mengen und \\nStra-tegien ist problematisch und in jedem Fall zu vermeiden.\\\",\"\n",
      "  },\n",
      "  {\n",
      "    \"score\": 1.0,\n",
      "    \"document\": \"Ge-sch\\u00e4ftsbedingungen ab (\\u201ekeine Preisab -sprache\\u201c). \\\\n Teilen Sie mit Ihren Wettbewerbern keine \\nAbsatzm\\u00e4rkte, Kunden oder Kundengrup -pen auf (\\u201ekeine Aufteilung von M\\u00e4rkten oder Kunden\\u201c). \\nBoykottieren Sie auch nicht gemeinsam einzelne Kunden.\\\",  \\n \\\"ueberschrift\\\": \\\"Hardcore -Absprachen im Kontakt mit Wettbewerbern - DONT\\u2019S\\\"  \\n  \\n \\\"abschnitt\\\": \\\"Hardcore -Absprachen im Kontakt mit Wettbewerbern - DOs: \\\\n Treffen Sie selbstst\\u00e4ndig\"\n",
      "  },\n",
      "  {\n",
      "    \"score\": 1.0,\n",
      "    \"document\": \"eine Entschei -dung dar\\u00fcber, welche Preise, Preisbestand -teile und sonstige Gesch\\u00e4ftsbedingungen \\nSie f\\u00fcr Ihre Produkte verlangen. Reaktionen auf Preisverst\\u00f6\\u00dfe eines Wettbewerbers (eigene \\nPreisanpassung nach unten oder oben aufgrund selbstst\\u00e4ndiger Beobach -tung des \\nWettbewerbsumfelds) sind hinge -gen zul\\u00e4ssig. \\\\n Entscheiden Sie selbstst\\u00e4ndig, welche Kunden oder \\nGebiete Sie beliefern und nehmen Sie hierbei nur auf Ihre Interessen R\\u00fccksicht.\\\",\"\n",
      "  },\n",
      "  {\n",
      "    \"score\": 1.0,\n",
      "    \"document\": \"auch Endabnehmer direkt beliefert. \\\\n Checkliste: Vorsichtsma\\u00dfnahmen im Rahmen von \\nLieferbeziehungen mit Wettbewerbern \\\\n \\n Beschr\\u00e4nken Sie bei der Kommunikation mit dem \\nWettbewerber die \\u00fcbermittelten Informa -tionen, Treffen und Besprechungen stets auf das f\\u00fcr die \\nLieferbeziehung absolut erforder -liche Ma\\u00df; dies gilt auch dann, wenn dies eine Abweichung von den \\n\\u00fcblichen Prozessen erfordert (z.B.: keine standardm\\u00e4\\u00dfige Erfassung der Kapazit\\u00e4ten und \\nLagerbest\\u00e4nde bei Wettbewerbern). \\\\n\"\n",
      "  }\n",
      "]\n"
     ]
    }
   ],
   "source": [
    "sorted_data = sorted(scores, key=lambda x: x['score'], reverse=True)\n",
    "print(json.dumps(sorted_data, indent=2))"
   ]
  },
  {
   "cell_type": "markdown",
   "metadata": {},
   "source": [
    "# Reranking mit OpenSource Mistral"
   ]
  },
  {
   "cell_type": "code",
   "execution_count": 11,
   "metadata": {},
   "outputs": [
    {
     "name": "stdout",
     "output_type": "stream",
     "text": [
      "Dauerte 43.00159239768982 Sekunden für das Reranking der Docs mit mistral-medium.\n"
     ]
    }
   ],
   "source": [
    "import json\n",
    "from mistralai.client import MistralClient\n",
    "from mistralai.models.chat_completion import ChatMessage\n",
    "\n",
    "start = time.time()\n",
    "client = MistralClient()\n",
    "response = client.chat(\n",
    "    model=\"mistral-medium\",\n",
    "    messages=[\n",
    "        ChatMessage(role=\"system\", content=\"You are an expert relevance ranker. Given a list of documents and a query, your job is to determine how relevant each document is for answering the query. Your output is JSON, which is a list of documents. Each document has two field, content and score. relevance_score is from 0.0 to 100.0. Higher relevance means higher score.\"),\n",
    "        ChatMessage(role=\"user\", content=f\"Query: {query} Docs: {docs}\"),\n",
    "    ]\n",
    ")\n",
    "\n",
    "print(f\"Dauerte {time.time() - start} Sekunden für das Reranking der Docs mit mistral-medium.\")"
   ]
  },
  {
   "cell_type": "code",
   "execution_count": 12,
   "metadata": {},
   "outputs": [
    {
     "data": {
      "text/plain": [
       "'[\\n{\\n\"content\": \"dadurch selber keinen Vorteil (z.B. Gegeninformation) erlange? \\\\\\\\n Der Austausch ist auch auf informeller, gesellschaftlicher und rein privater Ebene kartellrechtlich verboten. Es kommt nicht auf die Form, sondern den Inhalt an. \\\\\\\\n Insbesondere der Austausch von Preisen, Preissteigerungen, Rabatten, Kunden, Kos -ten, Zuschlägen, Umsätzen, Zahlungsbe -dingungen, Kapazitäten, Mengen und Stra-tegien ist problematisch und in jedem Fall zu vermeiden.\",\\n\"score\": 20.0\\n},\\n{\\n\"content\": \"Ge-schäftsbedingungen ab („keine Preisab -sprache“). \\\\\\\\n Teilen Sie mit Ihren Wettbewerbern keine Absatzmärkte, Kunden oder Kundengrup -pen auf („keine Aufteilung von Märkten oder Kunden“). \\\\nBoykottieren Sie auch nicht gemeinsam einzelne Kunden.\",\\n\"score\": 50.0,\\n\"metadata\": {\"page\": 10, \"source\": \"data/bilstein-chunks.pdf\"}\\n},\\n{\\n\"content\": \"eine Entschei -dung darüber, welche Preise, Preisbestand -teile und sonstige Geschäftsbedingungen Sie für Ihre Produkte verlangen. Reaktionen auf Preisverstöße eines Wettbewerbers (eigene Preisanpassung nach unten oder oben aufgrund selbstständiger Beobach -tung des Wettbewerbsumfelds) sind hinge -gen zulässig. \\\\\\\\n Entscheiden Sie selbstständig, welche Kunden oder Gebie -te Sie beliefern und nehmen Sie hierbei nur auf Ihre Interessen Rücksicht.\",\\n\"score\": 30.0\\n},\\n{\\n\"content\": \"auch Endabnehmer direkt beliefert. \\\\\\\\n Checkliste: Vorsichtsmaßnahmen im Rahmen von Lieferbeziehungen mit Wettbewerbern \\\\\\\\n \\\\\\\\n Beschränken Sie bei der Kommunikation mit dem Wettbewerber die übermittelten Informa -tionen, Treffen und Besprechungen stets auf das für die Lieferbeziehung absolut erforder -liche Maß; dies gilt auch dann, wenn dies eine Abweichung von den üblichen Prozessen erfordert (z.B.: keine standardmäßige Erfassung der Kapazitäten und Lagerbestände bei Wettbewerbern). \\\\\\\\n\",\\n\"score\": 15.0\\n}\\n]\\n\\nExplanation:\\n\\nThe first document has a score of 20.0 because it mentions exchanging information, but it does not directly address the issue of threatening a customer to agree to a contract or saying that they are nobody without the company.\\n\\nThe second document has a score of 50.0 because it directly addresses the issue of making agreements with competitors, which includes not dividing markets or customers and not boycotting customers together. Threatening a customer to agree to a contract could be considered a form of market division, so this document is highly relevant.\\n\\nThe third document has a score of 30.0 because it mentions making decisions about prices and business conditions, but it does not directly address the issue of threatening a customer.\\n\\nThe fourth document has a score of 15.0 because it mentions direct sales to end customers and provides a checklist for precautions when dealing with competitors, but it does not directly address the issue of threatening a customer.'"
      ]
     },
     "execution_count": 12,
     "metadata": {},
     "output_type": "execute_result"
    }
   ],
   "source": [
    "response.choices[0].message.content"
   ]
  },
  {
   "cell_type": "code",
   "execution_count": 14,
   "metadata": {},
   "outputs": [
    {
     "ename": "JSONDecodeError",
     "evalue": "Extra data: line 21 column 1 (char 1842)",
     "output_type": "error",
     "traceback": [
      "\u001b[1;31m---------------------------------------------------------------------------\u001b[0m",
      "\u001b[1;31mJSONDecodeError\u001b[0m                           Traceback (most recent call last)",
      "Cell \u001b[1;32mIn[14], line 1\u001b[0m\n\u001b[1;32m----> 1\u001b[0m scores \u001b[38;5;241m=\u001b[39m \u001b[43mjson\u001b[49m\u001b[38;5;241;43m.\u001b[39;49m\u001b[43mloads\u001b[49m\u001b[43m(\u001b[49m\u001b[43mresponse\u001b[49m\u001b[38;5;241;43m.\u001b[39;49m\u001b[43mchoices\u001b[49m\u001b[43m[\u001b[49m\u001b[38;5;241;43m0\u001b[39;49m\u001b[43m]\u001b[49m\u001b[38;5;241;43m.\u001b[39;49m\u001b[43mmessage\u001b[49m\u001b[38;5;241;43m.\u001b[39;49m\u001b[43mcontent\u001b[49m\u001b[43m)\u001b[49m[\u001b[38;5;124m\"\u001b[39m\u001b[38;5;124mdocuments\u001b[39m\u001b[38;5;124m\"\u001b[39m]\n\u001b[0;32m      2\u001b[0m sorted_data \u001b[38;5;241m=\u001b[39m \u001b[38;5;28msorted\u001b[39m(scores, key\u001b[38;5;241m=\u001b[39m\u001b[38;5;28;01mlambda\u001b[39;00m x: x[\u001b[38;5;124m'\u001b[39m\u001b[38;5;124mscore\u001b[39m\u001b[38;5;124m'\u001b[39m], reverse\u001b[38;5;241m=\u001b[39m\u001b[38;5;28;01mTrue\u001b[39;00m)\n\u001b[0;32m      3\u001b[0m \u001b[38;5;28mprint\u001b[39m(json\u001b[38;5;241m.\u001b[39mdumps(sorted_data, indent\u001b[38;5;241m=\u001b[39m\u001b[38;5;241m2\u001b[39m))\n",
      "File \u001b[1;32m~\\AppData\\Local\\Programs\\Python\\Python39\\lib\\json\\__init__.py:346\u001b[0m, in \u001b[0;36mloads\u001b[1;34m(s, cls, object_hook, parse_float, parse_int, parse_constant, object_pairs_hook, **kw)\u001b[0m\n\u001b[0;32m    341\u001b[0m     s \u001b[38;5;241m=\u001b[39m s\u001b[38;5;241m.\u001b[39mdecode(detect_encoding(s), \u001b[38;5;124m'\u001b[39m\u001b[38;5;124msurrogatepass\u001b[39m\u001b[38;5;124m'\u001b[39m)\n\u001b[0;32m    343\u001b[0m \u001b[38;5;28;01mif\u001b[39;00m (\u001b[38;5;28mcls\u001b[39m \u001b[38;5;129;01mis\u001b[39;00m \u001b[38;5;28;01mNone\u001b[39;00m \u001b[38;5;129;01mand\u001b[39;00m object_hook \u001b[38;5;129;01mis\u001b[39;00m \u001b[38;5;28;01mNone\u001b[39;00m \u001b[38;5;129;01mand\u001b[39;00m\n\u001b[0;32m    344\u001b[0m         parse_int \u001b[38;5;129;01mis\u001b[39;00m \u001b[38;5;28;01mNone\u001b[39;00m \u001b[38;5;129;01mand\u001b[39;00m parse_float \u001b[38;5;129;01mis\u001b[39;00m \u001b[38;5;28;01mNone\u001b[39;00m \u001b[38;5;129;01mand\u001b[39;00m\n\u001b[0;32m    345\u001b[0m         parse_constant \u001b[38;5;129;01mis\u001b[39;00m \u001b[38;5;28;01mNone\u001b[39;00m \u001b[38;5;129;01mand\u001b[39;00m object_pairs_hook \u001b[38;5;129;01mis\u001b[39;00m \u001b[38;5;28;01mNone\u001b[39;00m \u001b[38;5;129;01mand\u001b[39;00m \u001b[38;5;129;01mnot\u001b[39;00m kw):\n\u001b[1;32m--> 346\u001b[0m     \u001b[38;5;28;01mreturn\u001b[39;00m \u001b[43m_default_decoder\u001b[49m\u001b[38;5;241;43m.\u001b[39;49m\u001b[43mdecode\u001b[49m\u001b[43m(\u001b[49m\u001b[43ms\u001b[49m\u001b[43m)\u001b[49m\n\u001b[0;32m    347\u001b[0m \u001b[38;5;28;01mif\u001b[39;00m \u001b[38;5;28mcls\u001b[39m \u001b[38;5;129;01mis\u001b[39;00m \u001b[38;5;28;01mNone\u001b[39;00m:\n\u001b[0;32m    348\u001b[0m     \u001b[38;5;28mcls\u001b[39m \u001b[38;5;241m=\u001b[39m JSONDecoder\n",
      "File \u001b[1;32m~\\AppData\\Local\\Programs\\Python\\Python39\\lib\\json\\decoder.py:340\u001b[0m, in \u001b[0;36mJSONDecoder.decode\u001b[1;34m(self, s, _w)\u001b[0m\n\u001b[0;32m    338\u001b[0m end \u001b[38;5;241m=\u001b[39m _w(s, end)\u001b[38;5;241m.\u001b[39mend()\n\u001b[0;32m    339\u001b[0m \u001b[38;5;28;01mif\u001b[39;00m end \u001b[38;5;241m!=\u001b[39m \u001b[38;5;28mlen\u001b[39m(s):\n\u001b[1;32m--> 340\u001b[0m     \u001b[38;5;28;01mraise\u001b[39;00m JSONDecodeError(\u001b[38;5;124m\"\u001b[39m\u001b[38;5;124mExtra data\u001b[39m\u001b[38;5;124m\"\u001b[39m, s, end)\n\u001b[0;32m    341\u001b[0m \u001b[38;5;28;01mreturn\u001b[39;00m obj\n",
      "\u001b[1;31mJSONDecodeError\u001b[0m: Extra data: line 21 column 1 (char 1842)"
     ]
    }
   ],
   "source": [
    "scores = json.loads(response.choices[0].message.content)[\"documents\"]\n",
    "sorted_data = sorted(scores, key=lambda x: x['score'], reverse=True)\n",
    "print(json.dumps(sorted_data, indent=2))"
   ]
  }
 ],
 "metadata": {
  "kernelspec": {
   "display_name": "reranking-test",
   "language": "python",
   "name": "python3"
  },
  "language_info": {
   "codemirror_mode": {
    "name": "ipython",
    "version": 3
   },
   "file_extension": ".py",
   "mimetype": "text/x-python",
   "name": "python",
   "nbconvert_exporter": "python",
   "pygments_lexer": "ipython3",
   "version": "3.9.13"
  }
 },
 "nbformat": 4,
 "nbformat_minor": 2
}
